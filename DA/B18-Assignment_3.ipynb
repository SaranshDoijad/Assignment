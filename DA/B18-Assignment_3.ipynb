{
 "cells": [
  {
   "cell_type": "code",
   "execution_count": null,
   "id": "e9a95b4e",
   "metadata": {},
   "outputs": [
    {
     "name": "stdout",
     "output_type": "stream",
     "text": [
      "     score   z_score\n",
      "0     75.0  1.180571\n",
      "1     56.0 -0.422205\n",
      "2     67.0  0.505718\n",
      "3     65.0  0.337005\n",
      "4     63.0  0.168291\n",
      "..     ...       ...\n",
      "194   42.0 -1.603198\n",
      "195   76.0  1.264928\n",
      "196   67.0  0.505718\n",
      "197   74.0  1.096214\n",
      "199   53.0 -0.675275\n",
      "\n",
      "[198 rows x 2 columns]\n"
     ]
    }
   ],
   "source": [
    "import numpy as np\n",
    "import pandas as pd\n",
    "def generate_scores(mean=60,std_dev=12,num_samples=200):\n",
    "    np.random.seed(27)\n",
    "    scores = np.random.normal(loc=mean,scale=std_dev,size=num_samples)\n",
    "    scores = np.round(scores, decimals=0)\n",
    "    return scores\n",
    "scores_data = generate_scores()\n",
    "df_scores = pd.DataFrame(scores_data,columns=['score'])\n",
    "df_scores.mean()\n",
    "df_scores.std()\n",
    "\n",
    "df_scores['z_score']=(df_scores['score'] - df_scores['score'].mean())/df_scores['score'].std()\n",
    "# df_scores.head()\n",
    "df_scores_filtered= df_scores[(df_scores['z_score']>-3) & (df_scores['z_score']<3)]\n",
    "\n",
    "print(df_scores_filtered)"
   ]
  },
  {
   "cell_type": "code",
   "execution_count": null,
   "id": "063d3885",
   "metadata": {},
   "outputs": [],
   "source": []
  }
 ],
 "metadata": {
  "kernelspec": {
   "display_name": "Python 3 (ipykernel)",
   "language": "python",
   "name": "python3"
  },
  "language_info": {
   "codemirror_mode": {
    "name": "ipython",
    "version": 3
   },
   "file_extension": ".py",
   "mimetype": "text/x-python",
   "name": "python",
   "nbconvert_exporter": "python",
   "pygments_lexer": "ipython3",
   "version": "3.9.13"
  }
 },
 "nbformat": 4,
 "nbformat_minor": 5
}
